{
 "cells": [
  {
   "cell_type": "markdown",
   "metadata": {},
   "source": [
    "# Implementando uma Deep Learning do zero em Python\n",
    "\n",
    "**MNIST:** reconhecer números escritos a mão"
   ]
  },
  {
   "cell_type": "markdown",
   "metadata": {},
   "source": [
    "## 1 - Importando bibliotecas"
   ]
  },
  {
   "cell_type": "code",
   "execution_count": 14,
   "metadata": {},
   "outputs": [],
   "source": [
    "# conda install -c pytorch pytorch\n",
    "# conda install -c pytorch torchvision\n"
   ]
  },
  {
   "cell_type": "code",
   "execution_count": 15,
   "metadata": {},
   "outputs": [],
   "source": [
    "import matplotlib.pyplot as plt\n",
    "import numpy as np\n",
    "from time import time\n",
    "# pytorch \n",
    "import torch\n",
    "import torch.nn.functional as F\n",
    "import torchvision \n",
    "from torchvision import datasets, transforms\n",
    "from torch import nn, optim\n"
   ]
  },
  {
   "cell_type": "markdown",
   "metadata": {},
   "source": [
    "## 2 - Dataset"
   ]
  },
  {
   "cell_type": "code",
   "execution_count": 16,
   "metadata": {},
   "outputs": [],
   "source": [
    "# definindo a conversão de imagem para tensor\n",
    "transform = transforms.ToTensor()\n",
    "\n",
    "# carrega a parte de treino do dataset - download e salva na pasta MNIST_data\n",
    "trainset = datasets.MNIST('./MNIST_data/', download=True, train=True, transform=transform)\n",
    "\n",
    "# cria um buffer para pegar os dados por partes\n",
    "trainloader = torch.utils.data.DataLoader(trainset, batch_size=64, shuffle=True)\n",
    "\n",
    "# carrega a parte de validação do dataset\n",
    "valset = datasets.MNIST('./MNIST_data/', download=True, train=True, transform=transform)\n",
    "\n",
    "# cria um buffer para pegar os dados por partes\n",
    "valloader = torch.utils.data.DataLoader(valset, batch_size=64, shuffle=True)"
   ]
  },
  {
   "cell_type": "code",
   "execution_count": 17,
   "metadata": {},
   "outputs": [
    {
     "data": {
      "text/plain": [
       "<matplotlib.image.AxesImage at 0x18113c64b20>"
      ]
     },
     "execution_count": 17,
     "metadata": {},
     "output_type": "execute_result"
    },
    {
     "data": {
      "image/png": "[encoded data removed]",
      "text/plain": [
       "<Figure size 640x480 with 1 Axes>"
      ]
     },
     "metadata": {},
     "output_type": "display_data"
    }
   ],
   "source": [
    "# representação de um digito so para ver o dado\n",
    "dataiter = iter(trainloader)\n",
    "imagens, etiqueta = next(dataiter)\n",
    "\n",
    "plt.imshow(imagens[0].numpy().squeeze(), cmap='gray_r')"
   ]
  },
  {
   "cell_type": "code",
   "execution_count": 18,
   "metadata": {},
   "outputs": [
    {
     "name": "stdout",
     "output_type": "stream",
     "text": [
      "torch.Size([1, 28, 28])\n",
      "torch.Size([])\n"
     ]
    }
   ],
   "source": [
    "# conferir o tamanho do tensor que representa uma imagem\n",
    "# verificar as dimensões do tensor de cada imagem\n",
    "print(imagens[0].shape)\n",
    "# verificar as dimensões do tensor de cada etiqueta\n",
    "print(etiqueta[0].shape)"
   ]
  },
  {
   "cell_type": "markdown",
   "metadata": {},
   "source": [
    "## 3 - Iniciando a Rede\n",
    "\n",
    "keras inception v3\n",
    "\n",
    "<https://keras.io/api/applications/>"
   ]
  },
  {
   "cell_type": "code",
   "execution_count": 19,
   "metadata": {},
   "outputs": [],
   "source": [
    "class Modelo(nn.Module):\n",
    "    def __init__(self):\n",
    "        super(Modelo, self).__init__()\n",
    "        # camada de entrada, 784 neuronios que se ligam a 128\n",
    "        self.linear1 = nn.Linear(28*28, 128)\n",
    "        # camada interna 1, 128 neuronios que se ligam a 64\n",
    "        self.linear2 = nn.Linear(128, 64)\n",
    "        # camada interna 2, 64 neuronios que se ligam a 10\n",
    "        self.linear3 = nn.Linear(64,10)\n",
    "        # para camada de saida não é necessário definir nda pois só precisamos pegar o output da camada interna 2\n",
    "\n",
    "        def forward(self, X):\n",
    "            # função de ativação da camada de entrada para a camada interna 1\n",
    "            X = F.relu(self.linear1(X))\n",
    "            # função de ativação da camada de interna 1 para a camada interna 2\n",
    "            X = F.relu(self.linear2(X))\n",
    "            # função de ativação da camada de interna 2 para a camada de saída, necesse caso f(x) = x\n",
    "            X = F.relu(self.linear3(X))\n",
    "            # dados utilizados para calcular a perda\n",
    "            return F.log_softmax(X, dim=1)"
   ]
  },
  {
   "cell_type": "markdown",
   "metadata": {},
   "source": [
    "Otimização da Rede"
   ]
  },
  {
   "cell_type": "code",
   "execution_count": 20,
   "metadata": {},
   "outputs": [],
   "source": [
    "def treino(modelo, trainloader, device):\n",
    "  # define a politica de atualização dos pesos e da bias\n",
    "  otimizador = optim.SGD(modelo.parameters(), lr=0.01, momentum=0.5) \n",
    "  # timer para saber quanto tempo levou o treino\n",
    "  inicio = time() \n",
    "  # definindo o criterio para calcular a perda\n",
    "  criterio = nn.NLLLoss() \n",
    "  # numero de epochs que o algoritmo rodará - tempo de treinamento - epoca \n",
    "  # um bom treinamento é no minimo de 100\n",
    "  EPOCHS = 100 \n",
    "  # ativando o modo de treinamento do modelo\n",
    "  modelo.train()\n",
    "\n",
    "   \n",
    "  for epoch in range(EPOCHS):\n",
    "    # inicialização da perda acumulada da epoch em questão\n",
    "    perda_acumulada =0 \n",
    "    for imagens, etiquetas in trainloader:\n",
    "      # convertendo as imagens para vetores de 28*28 casas\n",
    "      imagens = imagens.view(imagens.shape[0], -1) \n",
    "      # zerando os gradientes por conta do ciclo anterior\n",
    "      otimizador.zero_grad() \n",
    "      # colocando os dados no modelo\n",
    "      output = modelo(imagens.to(device)) \n",
    "      # calculando a perda da epoch em questão\n",
    "      perda_instantanea = criterio(output, etiquetas.to(device)) \n",
    "      # back propagation a partir da perda\n",
    "      perda_instantanea.backward() \n",
    "      # atualizando os pesos e a bias\n",
    "      otimizador.step() \n",
    "      # atualização da perda acumulada\n",
    "      perda_acumulada += perda_instantanea.item() \n",
    "    else:\n",
    "      print(\"Epoch {} - perda resultante: {}\".format(epoch+1, perda_acumulada/len(trainloader)))\n",
    "  print(\"\\nTempo de treino (em minutos) = \",(time()-inicio)/60)"
   ]
  },
  {
   "cell_type": "markdown",
   "metadata": {},
   "source": [
    "Verificar a acuracia\n",
    "\n",
    "Comparar a imagem que não foi treinada com a rede e seus pesos de treinamento. "
   ]
  },
  {
   "cell_type": "code",
   "execution_count": 21,
   "metadata": {},
   "outputs": [],
   "source": [
    "def validacao(modelo, valloader, device):\n",
    "  conta_corretas, conta_todas = 0, 0\n",
    "  for imagens,etiquetas in valloader:\n",
    "    for i in range(len(etiquetas)):\n",
    "      img = imagens[i].view(1, 784)\n",
    "      #desativar o autograd para acelerar a validação. Grafos computacionais dinâmicos tem um custo alto de processamento\n",
    "      with torch.no_grad():\n",
    "        logps = modelo(img.to(device)) # output do modelo em escala logaritmica\n",
    "      # converte output para escala normal( lembrando que é um tensor)\n",
    "      ps = torch.exp(logps) \n",
    "      probab = list(ps.cpu().numpy()[0])\n",
    "      # converte o tensor em um número, no caso, o numero que o modelo previu\n",
    "      etiqueta_pred = probab.index(max(probab)) \n",
    "      etiqueta_certa = etiquetas.numpy()[i]\n",
    "      #compara a previsão com o valor correto\n",
    "      if(etiqueta_certa == etiqueta_pred):  \n",
    "        conta_corretas += 1\n",
    "      conta_todas += 1\n",
    "  \n",
    "  print(\"Total de imagens testadas =\", conta_todas)\n",
    "  print(\"\\nPrecisão do modelo = {} %\".format((conta_corretas*100)/conta_todas))"
   ]
  },
  {
   "cell_type": "code",
   "execution_count": 22,
   "metadata": {},
   "outputs": [
    {
     "data": {
      "text/plain": [
       "Modelo(\n",
       "  (linear1): Linear(in_features=784, out_features=128, bias=True)\n",
       "  (linear2): Linear(in_features=128, out_features=64, bias=True)\n",
       "  (linear3): Linear(in_features=64, out_features=10, bias=True)\n",
       ")"
      ]
     },
     "execution_count": 22,
     "metadata": {},
     "output_type": "execute_result"
    }
   ],
   "source": [
    "modelo = Modelo()\n",
    "# verificar se tem o cuda disponivel, se não vai ser pela cpu\n",
    "device = torch.device(\"cuda\" if torch.cuda.is_available() else \"cpu\")\n",
    "modelo.to(device)"
   ]
  },
  {
   "cell_type": "markdown",
   "metadata": {},
   "source": [
    "Chamar o treino do modelo."
   ]
  }
 ],
 "metadata": {
  "kernelspec": {
   "display_name": "Python 3.9.13 ('base')",
   "language": "python",
   "name": "python3"
  },
  "language_info": {
   "codemirror_mode": {
    "name": "ipython",
    "version": 3
   },
   "file_extension": ".py",
   "mimetype": "text/x-python",
   "name": "python",
   "nbconvert_exporter": "python",
   "pygments_lexer": "ipython3",
   "version": "3.9.13"
  },
  "orig_nbformat": 4,
  "vscode": {
   "interpreter": {
    "hash": "725b19ffb05f04961e50dd4197e5dfd79ed8318f8496184ac41b1ab3a1bb8c52"
   }
  }
 },
 "nbformat": 4,
 "nbformat_minor": 2
}
